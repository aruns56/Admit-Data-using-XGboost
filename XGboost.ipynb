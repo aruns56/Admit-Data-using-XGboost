{
 "cells": [
  {
   "cell_type": "code",
   "execution_count": 1,
   "metadata": {},
   "outputs": [],
   "source": [
    "import pandas as pd\n",
    "import numpy as np\n",
    "import matplotlib.pyplot as plt\n",
    "import seaborn as sns\n",
    "import graphviz"
   ]
  },
  {
   "cell_type": "code",
   "execution_count": 2,
   "metadata": {},
   "outputs": [],
   "source": [
    "import os\n",
    "from xgboost import XGBClassifier\n",
    "%matplotlib inline"
   ]
  },
  {
   "cell_type": "code",
   "execution_count": 3,
   "metadata": {},
   "outputs": [],
   "source": [
    "os.chdir('C:\\\\PGA16')"
   ]
  },
  {
   "cell_type": "code",
   "execution_count": 4,
   "metadata": {},
   "outputs": [],
   "source": [
    "df=pd.read_csv('admit.csv')"
   ]
  },
  {
   "cell_type": "code",
   "execution_count": 5,
   "metadata": {},
   "outputs": [
    {
     "data": {
      "text/plain": [
       "Index(['GRE', 'TOEFL', 'Univ_Rating', 'SOP', 'LOR ', 'CGPA', 'Research',\n",
       "       'Admit'],\n",
       "      dtype='object')"
      ]
     },
     "execution_count": 5,
     "metadata": {},
     "output_type": "execute_result"
    }
   ],
   "source": [
    "df.columns"
   ]
  },
  {
   "cell_type": "code",
   "execution_count": 6,
   "metadata": {},
   "outputs": [],
   "source": [
    "X=df[['GRE', 'TOEFL', 'Univ_Rating', 'SOP', 'LOR ', 'CGPA', 'Research']]\n",
    "y=pd.DataFrame(df.iloc[:,-1])"
   ]
  },
  {
   "cell_type": "code",
   "execution_count": 7,
   "metadata": {},
   "outputs": [
    {
     "data": {
      "text/html": [
       "<div>\n",
       "<style scoped>\n",
       "    .dataframe tbody tr th:only-of-type {\n",
       "        vertical-align: middle;\n",
       "    }\n",
       "\n",
       "    .dataframe tbody tr th {\n",
       "        vertical-align: top;\n",
       "    }\n",
       "\n",
       "    .dataframe thead th {\n",
       "        text-align: right;\n",
       "    }\n",
       "</style>\n",
       "<table border=\"1\" class=\"dataframe\">\n",
       "  <thead>\n",
       "    <tr style=\"text-align: right;\">\n",
       "      <th></th>\n",
       "      <th>Admit</th>\n",
       "    </tr>\n",
       "  </thead>\n",
       "  <tbody>\n",
       "    <tr>\n",
       "      <th>0</th>\n",
       "      <td>1</td>\n",
       "    </tr>\n",
       "    <tr>\n",
       "      <th>1</th>\n",
       "      <td>1</td>\n",
       "    </tr>\n",
       "    <tr>\n",
       "      <th>2</th>\n",
       "      <td>1</td>\n",
       "    </tr>\n",
       "    <tr>\n",
       "      <th>3</th>\n",
       "      <td>1</td>\n",
       "    </tr>\n",
       "    <tr>\n",
       "      <th>4</th>\n",
       "      <td>0</td>\n",
       "    </tr>\n",
       "    <tr>\n",
       "      <th>...</th>\n",
       "      <td>...</td>\n",
       "    </tr>\n",
       "    <tr>\n",
       "      <th>395</th>\n",
       "      <td>1</td>\n",
       "    </tr>\n",
       "    <tr>\n",
       "      <th>396</th>\n",
       "      <td>1</td>\n",
       "    </tr>\n",
       "    <tr>\n",
       "      <th>397</th>\n",
       "      <td>1</td>\n",
       "    </tr>\n",
       "    <tr>\n",
       "      <th>398</th>\n",
       "      <td>0</td>\n",
       "    </tr>\n",
       "    <tr>\n",
       "      <th>399</th>\n",
       "      <td>1</td>\n",
       "    </tr>\n",
       "  </tbody>\n",
       "</table>\n",
       "<p>400 rows × 1 columns</p>\n",
       "</div>"
      ],
      "text/plain": [
       "     Admit\n",
       "0        1\n",
       "1        1\n",
       "2        1\n",
       "3        1\n",
       "4        0\n",
       "..     ...\n",
       "395      1\n",
       "396      1\n",
       "397      1\n",
       "398      0\n",
       "399      1\n",
       "\n",
       "[400 rows x 1 columns]"
      ]
     },
     "execution_count": 7,
     "metadata": {},
     "output_type": "execute_result"
    }
   ],
   "source": [
    "y"
   ]
  },
  {
   "cell_type": "code",
   "execution_count": 8,
   "metadata": {},
   "outputs": [],
   "source": [
    "from sklearn.model_selection import train_test_split"
   ]
  },
  {
   "cell_type": "code",
   "execution_count": 9,
   "metadata": {},
   "outputs": [],
   "source": [
    "X_train, X_test, y_train, y_test = train_test_split(X, y, test_size=0.3, random_state=0)"
   ]
  },
  {
   "cell_type": "code",
   "execution_count": 10,
   "metadata": {},
   "outputs": [
    {
     "name": "stdout",
     "output_type": "stream",
     "text": [
      "[16:20:04] WARNING: C:/Users/Administrator/workspace/xgboost-win64_release_1.3.0/src/learner.cc:1061: Starting in XGBoost 1.3.0, the default evaluation metric used with the objective 'binary:logistic' was changed from 'error' to 'logloss'. Explicitly set eval_metric if you'd like to restore the old behavior.\n"
     ]
    },
    {
     "data": {
      "text/plain": [
       "XGBClassifier(base_score=0.5, booster='gbtree', colsample_bylevel=1,\n",
       "              colsample_bynode=1, colsample_bytree=1, gamma=0, gpu_id=-1,\n",
       "              importance_type='gain', interaction_constraints='',\n",
       "              learning_rate=0.300000012, max_delta_step=0, max_depth=6,\n",
       "              min_child_weight=1, missing=nan, monotone_constraints='()',\n",
       "              n_estimators=100, n_jobs=8, num_parallel_tree=1, random_state=0,\n",
       "              reg_alpha=0, reg_lambda=1, scale_pos_weight=1, subsample=1,\n",
       "              tree_method='exact', validate_parameters=1, verbosity=None)"
      ]
     },
     "execution_count": 10,
     "metadata": {},
     "output_type": "execute_result"
    }
   ],
   "source": [
    "from warnings import filterwarnings\n",
    "filterwarnings('ignore')\n",
    "model=XGBClassifier()\n",
    "model.fit(X_train,y_train)"
   ]
  },
  {
   "cell_type": "code",
   "execution_count": 11,
   "metadata": {},
   "outputs": [],
   "source": [
    "from xgboost import plot_tree"
   ]
  },
  {
   "cell_type": "code",
   "execution_count": 12,
   "metadata": {},
   "outputs": [
    {
     "data": {
      "text/plain": [
       "<AxesSubplot:>"
      ]
     },
     "execution_count": 12,
     "metadata": {},
     "output_type": "execute_result"
    }
   ],
   "source": [
    "%matplotlib qt\n",
    "plot_tree(model)"
   ]
  },
  {
   "cell_type": "code",
   "execution_count": 13,
   "metadata": {},
   "outputs": [],
   "source": [
    "for i in range(4):\n",
    "    plot_tree(model,num_trees=1,rankdir='LR')"
   ]
  },
  {
   "cell_type": "code",
   "execution_count": 14,
   "metadata": {},
   "outputs": [
    {
     "name": "stdout",
     "output_type": "stream",
     "text": [
      "[0.27947658 0.07633766 0.06690399 0.06933893 0.13369416 0.21310624\n",
      " 0.16114244]\n"
     ]
    }
   ],
   "source": [
    "print(model.feature_importances_)"
   ]
  },
  {
   "cell_type": "code",
   "execution_count": 15,
   "metadata": {},
   "outputs": [
    {
     "data": {
      "text/html": [
       "<div>\n",
       "<style scoped>\n",
       "    .dataframe tbody tr th:only-of-type {\n",
       "        vertical-align: middle;\n",
       "    }\n",
       "\n",
       "    .dataframe tbody tr th {\n",
       "        vertical-align: top;\n",
       "    }\n",
       "\n",
       "    .dataframe thead th {\n",
       "        text-align: right;\n",
       "    }\n",
       "</style>\n",
       "<table border=\"1\" class=\"dataframe\">\n",
       "  <thead>\n",
       "    <tr style=\"text-align: right;\">\n",
       "      <th></th>\n",
       "      <th>features</th>\n",
       "      <th>importance_values</th>\n",
       "    </tr>\n",
       "  </thead>\n",
       "  <tbody>\n",
       "    <tr>\n",
       "      <th>0</th>\n",
       "      <td>GRE</td>\n",
       "      <td>0.279477</td>\n",
       "    </tr>\n",
       "    <tr>\n",
       "      <th>1</th>\n",
       "      <td>TOEFL</td>\n",
       "      <td>0.076338</td>\n",
       "    </tr>\n",
       "    <tr>\n",
       "      <th>2</th>\n",
       "      <td>Univ_Rating</td>\n",
       "      <td>0.066904</td>\n",
       "    </tr>\n",
       "    <tr>\n",
       "      <th>3</th>\n",
       "      <td>SOP</td>\n",
       "      <td>0.069339</td>\n",
       "    </tr>\n",
       "    <tr>\n",
       "      <th>4</th>\n",
       "      <td>LOR</td>\n",
       "      <td>0.133694</td>\n",
       "    </tr>\n",
       "    <tr>\n",
       "      <th>5</th>\n",
       "      <td>CGPA</td>\n",
       "      <td>0.213106</td>\n",
       "    </tr>\n",
       "    <tr>\n",
       "      <th>6</th>\n",
       "      <td>Research</td>\n",
       "      <td>0.161142</td>\n",
       "    </tr>\n",
       "  </tbody>\n",
       "</table>\n",
       "</div>"
      ],
      "text/plain": [
       "      features  importance_values\n",
       "0          GRE           0.279477\n",
       "1        TOEFL           0.076338\n",
       "2  Univ_Rating           0.066904\n",
       "3          SOP           0.069339\n",
       "4         LOR            0.133694\n",
       "5         CGPA           0.213106\n",
       "6     Research           0.161142"
      ]
     },
     "execution_count": 15,
     "metadata": {},
     "output_type": "execute_result"
    }
   ],
   "source": [
    "importance=pd.DataFrame()\n",
    "importance['features']=X.columns\n",
    "importance['importance_values']=model.feature_importances_\n",
    "importance"
   ]
  },
  {
   "cell_type": "code",
   "execution_count": 16,
   "metadata": {},
   "outputs": [
    {
     "data": {
      "text/plain": [
       "<BarContainer object of 7 artists>"
      ]
     },
     "execution_count": 16,
     "metadata": {},
     "output_type": "execute_result"
    }
   ],
   "source": [
    "plt.bar(range(len(model.feature_importances_)),model.feature_importances_)"
   ]
  },
  {
   "cell_type": "code",
   "execution_count": 17,
   "metadata": {},
   "outputs": [],
   "source": [
    "from xgboost import plot_importance"
   ]
  },
  {
   "cell_type": "code",
   "execution_count": 18,
   "metadata": {},
   "outputs": [
    {
     "data": {
      "text/plain": [
       "<AxesSubplot:title={'center':'Feature importance'}, xlabel='F score', ylabel='Features'>"
      ]
     },
     "execution_count": 18,
     "metadata": {},
     "output_type": "execute_result"
    }
   ],
   "source": [
    "plot_importance(model)"
   ]
  },
  {
   "cell_type": "code",
   "execution_count": 19,
   "metadata": {},
   "outputs": [],
   "source": [
    "from sklearn.model_selection import KFold\n",
    "from sklearn.model_selection import cross_val_score\n",
    "from sklearn.model_selection import StratifiedKFold"
   ]
  },
  {
   "cell_type": "code",
   "execution_count": 20,
   "metadata": {},
   "outputs": [
    {
     "name": "stdout",
     "output_type": "stream",
     "text": [
      "[16:20:11] WARNING: C:/Users/Administrator/workspace/xgboost-win64_release_1.3.0/src/learner.cc:1061: Starting in XGBoost 1.3.0, the default evaluation metric used with the objective 'binary:logistic' was changed from 'error' to 'logloss'. Explicitly set eval_metric if you'd like to restore the old behavior.\n",
      "[16:20:11] WARNING: C:/Users/Administrator/workspace/xgboost-win64_release_1.3.0/src/learner.cc:1061: Starting in XGBoost 1.3.0, the default evaluation metric used with the objective 'binary:logistic' was changed from 'error' to 'logloss'. Explicitly set eval_metric if you'd like to restore the old behavior.\n",
      "[16:20:11] WARNING: C:/Users/Administrator/workspace/xgboost-win64_release_1.3.0/src/learner.cc:1061: Starting in XGBoost 1.3.0, the default evaluation metric used with the objective 'binary:logistic' was changed from 'error' to 'logloss'. Explicitly set eval_metric if you'd like to restore the old behavior.\n",
      "[16:20:11] WARNING: C:/Users/Administrator/workspace/xgboost-win64_release_1.3.0/src/learner.cc:1061: Starting in XGBoost 1.3.0, the default evaluation metric used with the objective 'binary:logistic' was changed from 'error' to 'logloss'. Explicitly set eval_metric if you'd like to restore the old behavior.\n",
      "[16:20:11] WARNING: C:/Users/Administrator/workspace/xgboost-win64_release_1.3.0/src/learner.cc:1061: Starting in XGBoost 1.3.0, the default evaluation metric used with the objective 'binary:logistic' was changed from 'error' to 'logloss'. Explicitly set eval_metric if you'd like to restore the old behavior.\n",
      "[16:20:11] WARNING: C:/Users/Administrator/workspace/xgboost-win64_release_1.3.0/src/learner.cc:1061: Starting in XGBoost 1.3.0, the default evaluation metric used with the objective 'binary:logistic' was changed from 'error' to 'logloss'. Explicitly set eval_metric if you'd like to restore the old behavior.\n",
      "[16:20:11] WARNING: C:/Users/Administrator/workspace/xgboost-win64_release_1.3.0/src/learner.cc:1061: Starting in XGBoost 1.3.0, the default evaluation metric used with the objective 'binary:logistic' was changed from 'error' to 'logloss'. Explicitly set eval_metric if you'd like to restore the old behavior.\n",
      "[16:20:11] WARNING: C:/Users/Administrator/workspace/xgboost-win64_release_1.3.0/src/learner.cc:1061: Starting in XGBoost 1.3.0, the default evaluation metric used with the objective 'binary:logistic' was changed from 'error' to 'logloss'. Explicitly set eval_metric if you'd like to restore the old behavior.\n",
      "[16:20:12] WARNING: C:/Users/Administrator/workspace/xgboost-win64_release_1.3.0/src/learner.cc:1061: Starting in XGBoost 1.3.0, the default evaluation metric used with the objective 'binary:logistic' was changed from 'error' to 'logloss'. Explicitly set eval_metric if you'd like to restore the old behavior.\n",
      "[16:20:12] WARNING: C:/Users/Administrator/workspace/xgboost-win64_release_1.3.0/src/learner.cc:1061: Starting in XGBoost 1.3.0, the default evaluation metric used with the objective 'binary:logistic' was changed from 'error' to 'logloss'. Explicitly set eval_metric if you'd like to restore the old behavior.\n"
     ]
    }
   ],
   "source": [
    "kfold= KFold(n_splits=10)\n",
    "skfold=StratifiedKFold(n_splits=10)\n",
    "results=cross_val_score(model,X_train,y_train,cv=kfold)"
   ]
  },
  {
   "cell_type": "code",
   "execution_count": 21,
   "metadata": {},
   "outputs": [
    {
     "data": {
      "text/plain": [
       "array([0.67857143, 0.85714286, 0.82142857, 0.78571429, 0.82142857,\n",
       "       0.75      , 0.78571429, 0.75      , 0.78571429, 0.82142857])"
      ]
     },
     "execution_count": 21,
     "metadata": {},
     "output_type": "execute_result"
    }
   ],
   "source": [
    "results"
   ]
  },
  {
   "cell_type": "code",
   "execution_count": 22,
   "metadata": {},
   "outputs": [
    {
     "name": "stdout",
     "output_type": "stream",
     "text": [
      "Mean accuray :78.571429% ::: standard Deviation of Score(0.047916)\n"
     ]
    }
   ],
   "source": [
    "print(\"Mean accuray :%2f%% ::: standard Deviation of Score(%2f)\" % (results.mean()*100,results.std()))"
   ]
  },
  {
   "cell_type": "code",
   "execution_count": 23,
   "metadata": {},
   "outputs": [
    {
     "name": "stdout",
     "output_type": "stream",
     "text": [
      "[16:20:12] WARNING: C:/Users/Administrator/workspace/xgboost-win64_release_1.3.0/src/learner.cc:1061: Starting in XGBoost 1.3.0, the default evaluation metric used with the objective 'binary:logistic' was changed from 'error' to 'logloss'. Explicitly set eval_metric if you'd like to restore the old behavior.\n",
      "[16:20:12] WARNING: C:/Users/Administrator/workspace/xgboost-win64_release_1.3.0/src/learner.cc:1061: Starting in XGBoost 1.3.0, the default evaluation metric used with the objective 'binary:logistic' was changed from 'error' to 'logloss'. Explicitly set eval_metric if you'd like to restore the old behavior.\n",
      "[16:20:12] WARNING: C:/Users/Administrator/workspace/xgboost-win64_release_1.3.0/src/learner.cc:1061: Starting in XGBoost 1.3.0, the default evaluation metric used with the objective 'binary:logistic' was changed from 'error' to 'logloss'. Explicitly set eval_metric if you'd like to restore the old behavior.\n",
      "[16:20:12] WARNING: C:/Users/Administrator/workspace/xgboost-win64_release_1.3.0/src/learner.cc:1061: Starting in XGBoost 1.3.0, the default evaluation metric used with the objective 'binary:logistic' was changed from 'error' to 'logloss'. Explicitly set eval_metric if you'd like to restore the old behavior.\n",
      "[16:20:12] WARNING: C:/Users/Administrator/workspace/xgboost-win64_release_1.3.0/src/learner.cc:1061: Starting in XGBoost 1.3.0, the default evaluation metric used with the objective 'binary:logistic' was changed from 'error' to 'logloss'. Explicitly set eval_metric if you'd like to restore the old behavior.\n",
      "[16:20:12] WARNING: C:/Users/Administrator/workspace/xgboost-win64_release_1.3.0/src/learner.cc:1061: Starting in XGBoost 1.3.0, the default evaluation metric used with the objective 'binary:logistic' was changed from 'error' to 'logloss'. Explicitly set eval_metric if you'd like to restore the old behavior.\n",
      "[16:20:13] WARNING: C:/Users/Administrator/workspace/xgboost-win64_release_1.3.0/src/learner.cc:1061: Starting in XGBoost 1.3.0, the default evaluation metric used with the objective 'binary:logistic' was changed from 'error' to 'logloss'. Explicitly set eval_metric if you'd like to restore the old behavior.\n",
      "[16:20:13] WARNING: C:/Users/Administrator/workspace/xgboost-win64_release_1.3.0/src/learner.cc:1061: Starting in XGBoost 1.3.0, the default evaluation metric used with the objective 'binary:logistic' was changed from 'error' to 'logloss'. Explicitly set eval_metric if you'd like to restore the old behavior.\n",
      "[16:20:13] WARNING: C:/Users/Administrator/workspace/xgboost-win64_release_1.3.0/src/learner.cc:1061: Starting in XGBoost 1.3.0, the default evaluation metric used with the objective 'binary:logistic' was changed from 'error' to 'logloss'. Explicitly set eval_metric if you'd like to restore the old behavior.\n",
      "[16:20:13] WARNING: C:/Users/Administrator/workspace/xgboost-win64_release_1.3.0/src/learner.cc:1061: Starting in XGBoost 1.3.0, the default evaluation metric used with the objective 'binary:logistic' was changed from 'error' to 'logloss'. Explicitly set eval_metric if you'd like to restore the old behavior.\n",
      "Mean accuray :78.928571% ::: standard Deviation of Score(0.062780)\n"
     ]
    }
   ],
   "source": [
    "results=cross_val_score(model,X_train,y_train,cv=skfold)\n",
    "print(\"Mean accuray :%2f%% ::: standard Deviation of Score(%2f)\" % (results.mean()*100,results.std()))"
   ]
  },
  {
   "cell_type": "code",
   "execution_count": 24,
   "metadata": {},
   "outputs": [
    {
     "name": "stdout",
     "output_type": "stream",
     "text": [
      "[0]\tvalidation_0-error:0.20000\n",
      "[1]\tvalidation_0-error:0.17500\n",
      "[2]\tvalidation_0-error:0.20000\n",
      "[3]\tvalidation_0-error:0.18333\n",
      "[4]\tvalidation_0-error:0.19167\n",
      "[5]\tvalidation_0-error:0.18333\n",
      "[6]\tvalidation_0-error:0.17500\n",
      "[7]\tvalidation_0-error:0.18333\n",
      "[8]\tvalidation_0-error:0.19167\n",
      "[9]\tvalidation_0-error:0.19167\n",
      "[10]\tvalidation_0-error:0.18333\n",
      "[11]\tvalidation_0-error:0.18333\n",
      "[12]\tvalidation_0-error:0.20000\n",
      "[13]\tvalidation_0-error:0.17500\n",
      "[14]\tvalidation_0-error:0.19167\n",
      "[15]\tvalidation_0-error:0.20000\n",
      "[16]\tvalidation_0-error:0.20000\n",
      "[17]\tvalidation_0-error:0.20000\n",
      "[18]\tvalidation_0-error:0.20000\n",
      "[19]\tvalidation_0-error:0.20000\n",
      "[20]\tvalidation_0-error:0.20000\n",
      "[21]\tvalidation_0-error:0.20000\n",
      "[22]\tvalidation_0-error:0.20000\n",
      "[23]\tvalidation_0-error:0.20000\n",
      "[24]\tvalidation_0-error:0.20000\n",
      "[25]\tvalidation_0-error:0.19167\n",
      "[26]\tvalidation_0-error:0.20000\n",
      "[27]\tvalidation_0-error:0.20000\n",
      "[28]\tvalidation_0-error:0.20000\n",
      "[29]\tvalidation_0-error:0.20000\n",
      "[30]\tvalidation_0-error:0.19167\n",
      "[31]\tvalidation_0-error:0.19167\n",
      "[32]\tvalidation_0-error:0.19167\n",
      "[33]\tvalidation_0-error:0.19167\n",
      "[34]\tvalidation_0-error:0.20000\n",
      "[35]\tvalidation_0-error:0.19167\n",
      "[36]\tvalidation_0-error:0.19167\n",
      "[37]\tvalidation_0-error:0.20000\n",
      "[38]\tvalidation_0-error:0.19167\n",
      "[39]\tvalidation_0-error:0.20000\n",
      "[40]\tvalidation_0-error:0.20000\n",
      "[41]\tvalidation_0-error:0.19167\n",
      "[42]\tvalidation_0-error:0.19167\n",
      "[43]\tvalidation_0-error:0.19167\n",
      "[44]\tvalidation_0-error:0.18333\n",
      "[45]\tvalidation_0-error:0.19167\n",
      "[46]\tvalidation_0-error:0.20000\n",
      "[47]\tvalidation_0-error:0.20833\n",
      "[48]\tvalidation_0-error:0.19167\n",
      "[49]\tvalidation_0-error:0.19167\n",
      "[50]\tvalidation_0-error:0.20000\n",
      "[51]\tvalidation_0-error:0.20000\n",
      "[52]\tvalidation_0-error:0.19167\n",
      "[53]\tvalidation_0-error:0.20000\n",
      "[54]\tvalidation_0-error:0.20000\n",
      "[55]\tvalidation_0-error:0.19167\n",
      "[56]\tvalidation_0-error:0.19167\n",
      "[57]\tvalidation_0-error:0.20000\n",
      "[58]\tvalidation_0-error:0.19167\n",
      "[59]\tvalidation_0-error:0.19167\n",
      "[60]\tvalidation_0-error:0.19167\n",
      "[61]\tvalidation_0-error:0.19167\n",
      "[62]\tvalidation_0-error:0.19167\n",
      "[63]\tvalidation_0-error:0.19167\n",
      "[64]\tvalidation_0-error:0.19167\n",
      "[65]\tvalidation_0-error:0.19167\n",
      "[66]\tvalidation_0-error:0.19167\n",
      "[67]\tvalidation_0-error:0.19167\n",
      "[68]\tvalidation_0-error:0.19167\n",
      "[69]\tvalidation_0-error:0.18333\n",
      "[70]\tvalidation_0-error:0.19167\n",
      "[71]\tvalidation_0-error:0.19167\n",
      "[72]\tvalidation_0-error:0.19167\n",
      "[73]\tvalidation_0-error:0.19167\n",
      "[74]\tvalidation_0-error:0.20000\n",
      "[75]\tvalidation_0-error:0.20000\n",
      "[76]\tvalidation_0-error:0.20000\n",
      "[77]\tvalidation_0-error:0.20000\n",
      "[78]\tvalidation_0-error:0.20000\n",
      "[79]\tvalidation_0-error:0.20000\n",
      "[80]\tvalidation_0-error:0.20000\n",
      "[81]\tvalidation_0-error:0.19167\n",
      "[82]\tvalidation_0-error:0.20000\n",
      "[83]\tvalidation_0-error:0.20000\n",
      "[84]\tvalidation_0-error:0.20833\n",
      "[85]\tvalidation_0-error:0.20833\n",
      "[86]\tvalidation_0-error:0.20833\n",
      "[87]\tvalidation_0-error:0.20833\n",
      "[88]\tvalidation_0-error:0.20833\n",
      "[89]\tvalidation_0-error:0.20833\n",
      "[90]\tvalidation_0-error:0.20000\n",
      "[91]\tvalidation_0-error:0.20000\n",
      "[92]\tvalidation_0-error:0.20000\n",
      "[93]\tvalidation_0-error:0.20000\n",
      "[94]\tvalidation_0-error:0.20000\n",
      "[95]\tvalidation_0-error:0.20000\n",
      "[96]\tvalidation_0-error:0.20000\n",
      "[97]\tvalidation_0-error:0.20000\n",
      "[98]\tvalidation_0-error:0.20000\n",
      "[99]\tvalidation_0-error:0.20000\n"
     ]
    }
   ],
   "source": [
    "eval_set_data=[(X_test,y_test)]\n",
    "model.fit(X_train,y_train,eval_metric='error',eval_set=eval_set_data,verbose=True)\n",
    "results=model.evals_result()"
   ]
  },
  {
   "cell_type": "code",
   "execution_count": 25,
   "metadata": {},
   "outputs": [],
   "source": [
    "eval_set_data = [(X_train,y_train),(X_test,y_test)]\n",
    "model.fit(X_train, y_train, eval_metric=['error','logloss'], eval_set=eval_set_data, verbose=False)\n",
    "results = model.evals_result()"
   ]
  },
  {
   "cell_type": "code",
   "execution_count": 26,
   "metadata": {},
   "outputs": [],
   "source": [
    "epochs=len(results['validation_0']['error'])\n",
    "x_axis=range(0,epochs)\n",
    "fig,ax=plt.subplots()\n",
    "ax.plot(x_axis,results['validation_0']['logloss'],label='Train')\n",
    "ax.plot(x_axis,results['validation_1']['logloss'],label='Test')\n",
    "ax.legend()\n",
    "plt.ylabel('Logloss')\n",
    "plt.title('XGBoost Log Loss')\n",
    "plt.show()"
   ]
  },
  {
   "cell_type": "code",
   "execution_count": 27,
   "metadata": {},
   "outputs": [
    {
     "name": "stdout",
     "output_type": "stream",
     "text": [
      "[0]\tvalidation_0-error:0.13214\tvalidation_0-logloss:0.69256\tvalidation_1-error:0.22500\tvalidation_1-logloss:0.69272\n",
      "[1]\tvalidation_0-error:0.11429\tvalidation_0-logloss:0.69198\tvalidation_1-error:0.20000\tvalidation_1-logloss:0.69224\n",
      "[2]\tvalidation_0-error:0.10714\tvalidation_0-logloss:0.69138\tvalidation_1-error:0.15833\tvalidation_1-logloss:0.69169\n",
      "[3]\tvalidation_0-error:0.10714\tvalidation_0-logloss:0.69080\tvalidation_1-error:0.18333\tvalidation_1-logloss:0.69118\n",
      "[4]\tvalidation_0-error:0.11071\tvalidation_0-logloss:0.69018\tvalidation_1-error:0.15833\tvalidation_1-logloss:0.69071\n",
      "[5]\tvalidation_0-error:0.10000\tvalidation_0-logloss:0.68963\tvalidation_1-error:0.16667\tvalidation_1-logloss:0.69020\n",
      "[6]\tvalidation_0-error:0.10000\tvalidation_0-logloss:0.68905\tvalidation_1-error:0.15000\tvalidation_1-logloss:0.68972\n",
      "[7]\tvalidation_0-error:0.09643\tvalidation_0-logloss:0.68843\tvalidation_1-error:0.15000\tvalidation_1-logloss:0.68922\n",
      "[8]\tvalidation_0-error:0.10000\tvalidation_0-logloss:0.68782\tvalidation_1-error:0.18333\tvalidation_1-logloss:0.68875\n",
      "[9]\tvalidation_0-error:0.08571\tvalidation_0-logloss:0.68723\tvalidation_1-error:0.15833\tvalidation_1-logloss:0.68832\n"
     ]
    }
   ],
   "source": [
    "model = XGBClassifier(learning_rate=0.001, n_estimators=10,subsample=0.80,max_delta_step=3, colsample_bylevel=0.7)\n",
    "eval_set_data = [(X_train,y_train),(X_test,y_test)]\n",
    "model.fit(X_train, y_train, eval_metric=['error','logloss'],early_stopping_rounds=1, eval_set=eval_set_data, verbose=True)\n",
    "results = model.evals_result()"
   ]
  },
  {
   "cell_type": "code",
   "execution_count": 28,
   "metadata": {},
   "outputs": [],
   "source": [
    "epochs = len(results['validation_0']['error'])\n",
    "x_axis = range(0,epochs)\n",
    "fig, ax = plt.subplots()\n",
    "ax.plot(x_axis,results['validation_0']['logloss'], label = 'Train')\n",
    "ax.plot(x_axis,results['validation_1']['logloss'], label = 'Test')\n",
    "ax.legend()\n",
    "plt.ylabel('Logloss')\n",
    "plt.title('XGBoost Log Loss')\n",
    "plt.show()"
   ]
  },
  {
   "cell_type": "code",
   "execution_count": 29,
   "metadata": {},
   "outputs": [
    {
     "name": "stdout",
     "output_type": "stream",
     "text": [
      "[16:20:22] WARNING: C:/Users/Administrator/workspace/xgboost-win64_release_1.3.0/src/learner.cc:1061: Starting in XGBoost 1.3.0, the default evaluation metric used with the objective 'binary:logistic' was changed from 'error' to 'logloss'. Explicitly set eval_metric if you'd like to restore the old behavior.\n"
     ]
    }
   ],
   "source": [
    "model=XGBClassifier()\n",
    "n_estimators = range(50,400,50)\n",
    "param_grid = dict(n_estimators=n_estimators)\n",
    "kfold = KFold(n_splits=10,shuffle=True)\n",
    "from sklearn.model_selection import GridSearchCV\n",
    "grid_search = GridSearchCV(model, param_grid, scoring='neg_log_loss', n_jobs=-1, cv=kfold)\n",
    "grid_result = grid_search.fit(X_train,y_train)"
   ]
  },
  {
   "cell_type": "code",
   "execution_count": 30,
   "metadata": {},
   "outputs": [
    {
     "name": "stdout",
     "output_type": "stream",
     "text": [
      "-0.590740 (0.241532) with: {'n_estimators': 50}\n",
      "-0.686298 (0.293130) with: {'n_estimators': 100}\n",
      "-0.741440 (0.326429) with: {'n_estimators': 150}\n",
      "-0.774584 (0.346046) with: {'n_estimators': 200}\n",
      "-0.801782 (0.361104) with: {'n_estimators': 250}\n",
      "-0.826574 (0.369537) with: {'n_estimators': 300}\n",
      "-0.847512 (0.382781) with: {'n_estimators': 350}\n"
     ]
    }
   ],
   "source": [
    "means = grid_result.cv_results_['mean_test_score']\n",
    "stds  = grid_result.cv_results_['std_test_score']\n",
    "params = grid_result.cv_results_['params']\n",
    "for mean, std, param in zip (means, stds, params):\n",
    "    print('%f (%f) with: %r'%(mean, std, param))"
   ]
  },
  {
   "cell_type": "code",
   "execution_count": 31,
   "metadata": {},
   "outputs": [
    {
     "name": "stdout",
     "output_type": "stream",
     "text": [
      "[16:20:23] WARNING: C:/Users/Administrator/workspace/xgboost-win64_release_1.3.0/src/learner.cc:1061: Starting in XGBoost 1.3.0, the default evaluation metric used with the objective 'binary:logistic' was changed from 'error' to 'logloss'. Explicitly set eval_metric if you'd like to restore the old behavior.\n",
      "-0.401481 (0.137436) with: {'max_depth': 1}\n",
      "-0.618417 (0.234244) with: {'max_depth': 3}\n",
      "-0.676898 (0.253055) with: {'max_depth': 5}\n",
      "-0.673363 (0.249134) with: {'max_depth': 7}\n",
      "-0.666094 (0.246328) with: {'max_depth': 9}\n"
     ]
    }
   ],
   "source": [
    "max_depth = range(1,11,2)\n",
    "param_grid = dict(max_depth=max_depth)\n",
    "kfold = KFold(n_splits=10,shuffle=True)\n",
    "from sklearn.model_selection import GridSearchCV\n",
    "grid_search = GridSearchCV(model, param_grid, scoring='neg_log_loss', n_jobs=-1, cv=kfold)\n",
    "grid_result = grid_search.fit(X_train,y_train)\n",
    "means = grid_result.cv_results_['mean_test_score']\n",
    "stds  = grid_result.cv_results_['std_test_score']\n",
    "params = grid_result.cv_results_['params']\n",
    "for mean, std, param in zip (means, stds, params):\n",
    "    print('%f (%f) with: %r'%(mean, std, param))\n"
   ]
  },
  {
   "cell_type": "code",
   "execution_count": 32,
   "metadata": {},
   "outputs": [],
   "source": [
    "plt.errorbar(max_depth, means, yerr=stds)\n",
    "plt.title('depth vs log loss')\n",
    "plt.xlabel('depth')\n",
    "plt.ylabel('logloss')\n",
    "plt.savefig('estimator.png')\n",
    "plt.show()"
   ]
  },
  {
   "cell_type": "code",
   "execution_count": 33,
   "metadata": {},
   "outputs": [],
   "source": [
    "pred_train=grid_result.predict(X_train)\n",
    "pred_test=grid_result.predict(X_test)"
   ]
  },
  {
   "cell_type": "code",
   "execution_count": 34,
   "metadata": {},
   "outputs": [],
   "source": [
    "from sklearn.metrics import accuracy_score"
   ]
  },
  {
   "cell_type": "code",
   "execution_count": 35,
   "metadata": {},
   "outputs": [
    {
     "data": {
      "text/plain": [
       "0.875"
      ]
     },
     "execution_count": 35,
     "metadata": {},
     "output_type": "execute_result"
    }
   ],
   "source": [
    "accuracy_score(y_train,pred_train)"
   ]
  },
  {
   "cell_type": "code",
   "execution_count": 36,
   "metadata": {},
   "outputs": [
    {
     "data": {
      "text/plain": [
       "0.85"
      ]
     },
     "execution_count": 36,
     "metadata": {},
     "output_type": "execute_result"
    }
   ],
   "source": [
    "accuracy_score(y_test,pred_test)"
   ]
  },
  {
   "cell_type": "code",
   "execution_count": 37,
   "metadata": {},
   "outputs": [
    {
     "data": {
      "text/plain": [
       "(array([0.0001    , 0.00011837, 0.00013673, 0.0001551 , 0.00017347,\n",
       "        0.00019184, 0.0002102 , 0.00022857, 0.00024694, 0.00026531,\n",
       "        0.00028367, 0.00030204, 0.00032041, 0.00033878, 0.00035714,\n",
       "        0.00037551, 0.00039388, 0.00041224, 0.00043061, 0.00044898,\n",
       "        0.00046735, 0.00048571, 0.00050408, 0.00052245, 0.00054082,\n",
       "        0.00055918, 0.00057755, 0.00059592, 0.00061429, 0.00063265,\n",
       "        0.00065102, 0.00066939, 0.00068776, 0.00070612, 0.00072449,\n",
       "        0.00074286, 0.00076122, 0.00077959, 0.00079796, 0.00081633,\n",
       "        0.00083469, 0.00085306, 0.00087143, 0.0008898 , 0.00090816,\n",
       "        0.00092653, 0.0009449 , 0.00096327, 0.00098163, 0.001     ]),\n",
       " 1.836734693877551e-05)"
      ]
     },
     "execution_count": 37,
     "metadata": {},
     "output_type": "execute_result"
    }
   ],
   "source": [
    "np.linspace(0.0001,0.001,retstep=True)"
   ]
  },
  {
   "cell_type": "code",
   "execution_count": null,
   "metadata": {},
   "outputs": [],
   "source": []
  }
 ],
 "metadata": {
  "kernelspec": {
   "display_name": "Python 3",
   "language": "python",
   "name": "python3"
  },
  "language_info": {
   "codemirror_mode": {
    "name": "ipython",
    "version": 3
   },
   "file_extension": ".py",
   "mimetype": "text/x-python",
   "name": "python",
   "nbconvert_exporter": "python",
   "pygments_lexer": "ipython3",
   "version": "3.8.8"
  }
 },
 "nbformat": 4,
 "nbformat_minor": 4
}
